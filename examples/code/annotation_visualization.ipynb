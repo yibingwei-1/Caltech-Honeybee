{
  "nbformat": 4,
  "nbformat_minor": 0,
  "metadata": {
    "kernelspec": {
      "display_name": "Python 3",
      "language": "python",
      "name": "python3"
    },
    "language_info": {
      "codemirror_mode": {
        "name": "ipython",
        "version": 3
      },
      "file_extension": ".py",
      "mimetype": "text/x-python",
      "name": "python",
      "nbconvert_exporter": "python",
      "pygments_lexer": "ipython3",
      "version": "3.8.3"
    },
    "colab": {
      "name": "annotation_visualization.ipynb",
      "provenance": [],
      "include_colab_link": true
    }
  },
  "cells": [
    {
      "cell_type": "markdown",
      "metadata": {
        "id": "view-in-github",
        "colab_type": "text"
      },
      "source": [
        "<a href=\"https://colab.research.google.com/github/ywwwei/Caltech-Honeybee/blob/main/examples/code/annotation_visualization.ipynb\" target=\"_parent\"><img src=\"https://colab.research.google.com/assets/colab-badge.svg\" alt=\"Open In Colab\"/></a>"
      ]
    },
    {
      "cell_type": "markdown",
      "metadata": {
        "id": "gqi5rkh-duXX"
      },
      "source": [
        "# Caltech Honeybee Dataset Visualization"
      ]
    },
    {
      "cell_type": "markdown",
      "metadata": {
        "id": "03clzfg4duXZ"
      },
      "source": [
        "## Pollen-bearing bee detection with bounding box"
      ]
    },
    {
      "cell_type": "code",
      "metadata": {
        "id": "pL0BBZFcduXZ"
      },
      "source": [
        ""
      ],
      "execution_count": null,
      "outputs": []
    },
    {
      "cell_type": "code",
      "metadata": {
        "id": "Kq_cuxUzduXZ"
      },
      "source": [
        "import json\n",
        "import os\n",
        "\n",
        "from PIL import Image,ImageDraw, ImageFont"
      ],
      "execution_count": null,
      "outputs": []
    },
    {
      "cell_type": "code",
      "metadata": {
        "id": "QGiT7ITBduXa"
      },
      "source": [
        "# Some helper functions\n",
        "def get_circle_bbox(center, r=10):\n",
        "    # return [x0, y0, x1, y1]\n",
        "    x, y = center\n",
        "    return [x - r, y - r, x + r, y + r]"
      ],
      "execution_count": null,
      "outputs": []
    },
    {
      "cell_type": "code",
      "metadata": {
        "id": "NvRSYvhLduXa"
      },
      "source": [
        ""
      ],
      "execution_count": null,
      "outputs": []
    }
  ]
}